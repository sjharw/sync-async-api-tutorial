{
 "cells": [
  {
   "attachments": {},
   "cell_type": "markdown",
   "metadata": {},
   "source": [
    "# Sync vs async methods of making API calls"
   ]
  },
  {
   "cell_type": "markdown",
   "metadata": {},
   "source": [
    "In Python, synchronous and asynchronous API requests refer to different ways of sending and receiving data from an external API or web service.\n",
    "\n",
    "Synchronous API requests are blocking, meaning that when a request is made, the program waits for the response to come back before continuing with any other tasks. This can be useful in situations where the response is required immediately and no other tasks need to be performed until the response is received.\n",
    "\n",
    "On the other hand, asynchronous API requests are non-blocking, meaning that when a request is made, the program continues to execute other tasks while waiting for the response to come back. This can be useful in situations where multiple requests need to be made at the same time or when the response time is unpredictable, allowing the program to continue working on other tasks while waiting for the response.\n",
    "\n",
    "The importance of synchronous and asynchronous API requests depends on the specific use case. For example, synchronous requests may be preferred when working with small, simple APIs that require immediate responses, while asynchronous requests may be necessary when working with large, complex APIs that require many requests to be made at the same time."
   ]
  },
  {
   "attachments": {},
   "cell_type": "markdown",
   "metadata": {},
   "source": [
    "In this notebook, we use the [httpbin](https://httpbin.org/) API to demonstrate synchronous and asynchronous methods of getting API data. We time each method to measure its performance."
   ]
  },
  {
   "cell_type": "markdown",
   "metadata": {},
   "source": [
    "## Preperation"
   ]
  },
  {
   "cell_type": "code",
   "execution_count": 1,
   "metadata": {},
   "outputs": [],
   "source": [
    "# Import required modules\n",
    "import pytest\n",
    "import timeit\n",
    "import re\n",
    "import requests\n",
    "import responses\n",
    "import time\n",
    "import asyncio\n",
    "import matplotlib.pyplot as plt\n",
    "from concurrent.futures import ThreadPoolExecutor"
   ]
  },
  {
   "cell_type": "markdown",
   "metadata": {},
   "source": [
    "We create a function that handles common exceptions raised when making a URL request. The function uses the `requests` library to make HTTP requests to a specified URL. You can use the library to set headers, encode and decode data, and handle redirects and authentication. The library will automatically parse the response and return a Response object."
   ]
  },
  {
   "cell_type": "code",
   "execution_count": 2,
   "metadata": {},
   "outputs": [],
   "source": [
    "def get_url_response(url):\n",
    "    \"\"\"\n",
    "    Makes get request using requests library to specified url.\n",
    "\n",
    "    Args:\n",
    "        url (str): url to make request to\n",
    "\n",
    "    Returns:\n",
    "        response: request response object\n",
    "\n",
    "    Raises:\n",
    "        requests.exceptions.HTTPError (\"Token not valid!\"): Provided token is not accepted\n",
    "        requests.exceptions.HTTPError (HTTPError. Request failed with response status: {response.status_code}, see the following link for more detail on this status: https://developer.mozilla.org/en-US/docs/Web/HTTP/Status/{response.status_code})\n",
    "        requests.exceptions.ConnectionError (Connection Error. Error connecting to server url:{url}. Following error raised: {e})\n",
    "        requests.exceptions.RequestException (Request Exception. An error occurred while making the request: {e})\n",
    "    \n",
    "    \"\"\"\n",
    "    try:\n",
    "        response = requests.get(url)\n",
    "    except requests.exceptions.ConnectionError as e:\n",
    "        raise requests.exceptions.ConnectionError(f\"Connection Error. Error connecting to server url:{url}. Following error raised: {e}\")\n",
    "    except requests.exceptions.RequestException as e:\n",
    "        raise requests.exceptions.RequestException(f\"An error occurred while making the request: {e}\")\n",
    "    if response.text == '{\"message\":\"Token not valid!\"}':\n",
    "        raise requests.exceptions.HTTPError(\"Token not valid!\")\n",
    "    elif response.status_code != 200:\n",
    "        raise requests.exceptions.HTTPError(f\"HTTPError. Request failed with response status: {response.status_code}, see the following link for more detail on this status: https://developer.mozilla.org/en-US/docs/Web/HTTP/Status/{response.status_code}\")\n",
    "    else:\n",
    "        pass\n",
    "    return response"
   ]
  },
  {
   "cell_type": "markdown",
   "metadata": {},
   "source": [
    "Lets test the get_url_response() function to check its giving the expected responces. When testing the function, we can create mock HTTP Response Object with `responses.RequestsMock()` from the `requests` library. We can define the mock response (the JSON object and status code) using `rsps.add()`."
   ]
  },
  {
   "cell_type": "code",
   "execution_count": 3,
   "metadata": {},
   "outputs": [],
   "source": [
    "def test_get_request_sucess():\n",
    "    \"\"\" Test for successful request \"\"\"\n",
    "    # set up response object that gives success status 200\n",
    "    with responses.RequestsMock() as rsps:\n",
    "        rsps.add(responses.GET, 'https://api.example.com/data',\n",
    "                 json={'data': 'example'}, status=200)\n",
    "        response = get_url_response('https://api.example.com/data')\n",
    "        assert response.status_code == 200\n",
    "        assert response.json() == {'data': 'example'}\n",
    "\n",
    "def test_get_request_failed_responsecode():\n",
    "    \"\"\" Test for failed request \"\"\"\n",
    "    with responses.RequestsMock() as rsps:\n",
    "        rsps.add(\n",
    "            responses.GET, \n",
    "            'https://api.example.com/data',\n",
    "            json={'error': 'Request failed'},\n",
    "            status=500\n",
    "        )\n",
    "        with pytest.raises(requests.exceptions.HTTPError) as exc_info:\n",
    "            get_url_response('https://api.example.com/data')\n",
    "        assert str(exc_info.value) == \"HTTPError. Request failed with response status: 500, see the following link for more detail on this status: https://developer.mozilla.org/en-US/docs/Web/HTTP/Status/500\"\n",
    "\n",
    "def test_get_request_failed_token():\n",
    "    \"\"\" Test for failed request \"\"\"\n",
    "    with responses.RequestsMock() as rsps:\n",
    "        rsps.add(\n",
    "            responses.GET, \n",
    "            'https://api.example.com/data',\n",
    "            body='{\"message\":\"Token not valid!\"}',\n",
    "            content_type='application/json', \n",
    "            status=200\n",
    "        )\n",
    "        with pytest.raises(requests.exceptions.HTTPError) as exc_info:\n",
    "            get_url_response('https://api.example.com/data')\n",
    "        assert str(exc_info.value) == \"Token not valid!\"\n",
    "\n",
    "def test_get_request_failed_url():\n",
    "    \"\"\" Test for failed request \"\"\"\n",
    "    with pytest.raises(requests.exceptions.ConnectionError) as exc_info:\n",
    "        get_url_response('https://api.example.com/invalid-url')\n",
    "    # Get unique \n",
    "    error_message_result = str(exc_info.value)\n",
    "    # Regular expression pattern\n",
    "    pattern = r'0x[0-9a-fA-F]+'\n",
    "    # Search for the pattern in the string\n",
    "    match = re.search(pattern, error_message_result)\n",
    "    error_message_expected = f\"Connection Error. Error connecting to server url:https://api.example.com/invalid-url. Following error raised: HTTPSConnectionPool(host='api.example.com', port=443): Max retries exceeded with url: /invalid-url (Caused by NewConnectionError('<urllib3.connection.HTTPSConnection object at {match.group()}>: Failed to establish a new connection: [Errno 11001] getaddrinfo failed'))\"\n",
    "    assert error_message_result == error_message_expected"
   ]
  },
  {
   "cell_type": "markdown",
   "metadata": {},
   "source": [
    "Run the test functions"
   ]
  },
  {
   "cell_type": "code",
   "execution_count": 4,
   "metadata": {},
   "outputs": [],
   "source": [
    "test_get_request_sucess()\n",
    "test_get_request_failed_responsecode()\n",
    "test_get_request_failed_token()\n",
    "test_get_request_failed_url()"
   ]
  },
  {
   "attachments": {},
   "cell_type": "markdown",
   "metadata": {},
   "source": [
    "## (1) Sync methods"
   ]
  },
  {
   "attachments": {},
   "cell_type": "markdown",
   "metadata": {},
   "source": [
    "### (1a) requests library"
   ]
  },
  {
   "attachments": {},
   "cell_type": "markdown",
   "metadata": {},
   "source": [
    "The `requests` library, when used on it's own, only allows for one page request at a time. The synchronous nature of the `requests` library means you have to wait until a response is recieved before you send the next response. This means the library is very slow when handling multiple requests, but works quickly for making a few requests. Below is a `requests` method for sending multiple API requests to a test URL in a synchronous manner."
   ]
  },
  {
   "cell_type": "code",
   "execution_count": 5,
   "metadata": {},
   "outputs": [],
   "source": [
    "def get_multiple_test_pages_synchronously(maximum_pages):\n",
    "    [get_url_response(f\"http://httpbin.org/links/{page}\") for page in range(maximum_pages)]"
   ]
  },
  {
   "attachments": {},
   "cell_type": "markdown",
   "metadata": {},
   "source": [
    "## (2) Async methods"
   ]
  },
  {
   "attachments": {},
   "cell_type": "markdown",
   "metadata": {},
   "source": [
    "Asynchronous methods involves making and processing get requests in parallel to speed up large numbers of HTTP requests. It works by sending multiple requests at once (rather than one-by-one) and processing the responses as they are recieved. Here we explore two methods for making API requests asynchronously. The first method uses the `ThreadPoolExecutor` library, and the second method uses the two libraries `asyncio` and `aiohttp`."
   ]
  },
  {
   "attachments": {},
   "cell_type": "markdown",
   "metadata": {},
   "source": [
    "### (2a) ThreadPoolExecutor"
   ]
  },
  {
   "attachments": {},
   "cell_type": "markdown",
   "metadata": {},
   "source": [
    "ThreadPoolExecutor is a class from the `concurrent.futures` module. It allows you to create a pool of worker threads to execute tasks concurrently. Each thread can make and process a HTTP request. You can use it to run multiple get requests (as seperate threads) in parallel by submitting them to the executor and then waiting for the results. Each time ThreadPoolExecutor creates a new thread, there is a small amount of overhead involved, so if the time it takes to make the request is relatively short, this overhead can make the overall execution time longer than using the synchronous requests module. `ThreadPoolExecutor` is optimal when used to make multiple requests that take time to recieve a response for/ process."
   ]
  },
  {
   "cell_type": "code",
   "execution_count": 6,
   "metadata": {},
   "outputs": [],
   "source": [
    "import concurrent.futures\n",
    "def get_multiple_test_pages_using_threads(maximum_pages):\n",
    "    # Create a ThreadPoolExecutor with a specified number of threads (adjust as needed)\n",
    "    with ThreadPoolExecutor(max_workers=4) as executor:\n",
    "        # Create a list of tasks to submit to the thread pool\n",
    "        tasks = [executor.submit(get_url_response, f\"http://httpbin.org/links/{page}\") for page in range(maximum_pages)]\n",
    "        # Wait for all tasks to complete and get their results\n",
    "        results = [task.result() for task in concurrent.futures.as_completed(tasks)]\n",
    "    return results"
   ]
  },
  {
   "attachments": {},
   "cell_type": "markdown",
   "metadata": {},
   "source": [
    "### (2b) asyncio & aiohttp\n",
    "\n",
    "`asyncio` and `aiohttp` are Python libraries that work together to make asynchronous HTTP requests. "
   ]
  },
  {
   "attachments": {},
   "cell_type": "markdown",
   "metadata": {},
   "source": [
    "**How does asyncio work?**"
   ]
  },
  {
   "attachments": {},
   "cell_type": "markdown",
   "metadata": {},
   "source": [
    "Asyncio uses coroutines which are awaitable functions that work simarly to generators. Generators are objects that contain iterables which, when requested using `yield`, are computed and stored in memory, while the rest of the iterables are never generated until they are requested. This means you can store an indefinate number of values without using storage space, its not until you call for the value using `next` that it then gets stored in memory. Variables and functions, on the other hand, compute all values in advance and store them in memory. Coroutines work like generators, they are functions that arent executed or stored in memory until called. They are declared with the async and await syntax."
   ]
  },
  {
   "cell_type": "markdown",
   "metadata": {},
   "source": [
    "<b>Function vs Generator</b>\n",
    "<br>\n",
    "<br>\n",
    "Functions compute and store all values in advance. This means, if you make get requests using a function (see `get_multiple_pages_non_generator()` example below), then the function would make all the requests, store all the responses in memory and return all the response objects together."
   ]
  },
  {
   "cell_type": "code",
   "execution_count": 7,
   "metadata": {},
   "outputs": [
    {
     "name": "stdout",
     "output_type": "stream",
     "text": [
      "[<Response [200]>, <Response [200]>, <Response [200]>, <Response [200]>]\n"
     ]
    }
   ],
   "source": [
    "def get_multiple_pages_non_generator(maximum_pages):\n",
    "    results_list = []\n",
    "    for page in range(maximum_pages):\n",
    "        result = get_url_response(f\"http://httpbin.org/links/{page}\") \n",
    "        results_list.append(result)\n",
    "    return results_list\n",
    "\n",
    "results = get_multiple_pages_non_generator(4)\n",
    "print(results)"
   ]
  },
  {
   "cell_type": "markdown",
   "metadata": {},
   "source": [
    "Generators, instead of building an array containing all the values and returning them all at once (like with functions), yields values one at a time (using the `next` keyword), which requires less memory and allows the caller to get started processing the first few values immediately."
   ]
  },
  {
   "cell_type": "code",
   "execution_count": 8,
   "metadata": {},
   "outputs": [],
   "source": [
    "# Example generator function\n",
    "def get_multiple_pages_generator(maximum_pages):\n",
    "    for page in range(maximum_pages):\n",
    "        result = get_url_response(f\"http://httpbin.org/links/{page}\") \n",
    "        yield result\n",
    "\n",
    "responses = get_multiple_pages_generator(4)"
   ]
  },
  {
   "cell_type": "code",
   "execution_count": 9,
   "metadata": {},
   "outputs": [
    {
     "data": {
      "text/plain": [
       "<Response [200]>"
      ]
     },
     "execution_count": 9,
     "metadata": {},
     "output_type": "execute_result"
    }
   ],
   "source": [
    "next(responses)"
   ]
  },
  {
   "attachments": {},
   "cell_type": "markdown",
   "metadata": {},
   "source": [
    "<b>Coroutines</b>\n",
    "<br>\n",
    "<br>\n",
    "Similar to generators, coroutines can be paused and resumed, only generating values as needed. They also have the ability to receive values from the caller, simarly to generators. This is particularly important as it means coroutines and be suspended and resumed later, allowing other tasks to run in the meantime. Asyncio allows you to run processes in parallel by running two or more coroutines concurrently.\n",
    "\n",
    "In the example below, we run multiple async functions and process them concurrently which means the functions dont return values in the order of their execution."
   ]
  },
  {
   "cell_type": "code",
   "execution_count": 10,
   "metadata": {},
   "outputs": [
    {
     "name": "stdout",
     "output_type": "stream",
     "text": [
      "count one\n",
      "count three\n",
      "count five\n",
      "count four\n",
      "count six\n",
      "count two\n",
      "Script executed in 8.01 seconds.\n"
     ]
    }
   ],
   "source": [
    "# create tasks\n",
    "async def count():\n",
    "    print(\"count one\")\n",
    "    await asyncio.sleep(8)\n",
    "    print(\"count two\")\n",
    "\n",
    "async def count_further():\n",
    "    print(\"count three\")\n",
    "    await asyncio.sleep(4)\n",
    "    print(\"count four\")\n",
    "\n",
    "async def count_even_further():\n",
    "    print(\"count five\")\n",
    "    await asyncio.sleep(6)\n",
    "    print(\"count six\")\n",
    "\n",
    "async def main():\n",
    "    await asyncio.gather(count(), count_further(), count_even_further()) # gather tasks and await their excecution in the event loop\n",
    "\n",
    "s = time.perf_counter()\n",
    "await main()\n",
    "elapsed = time.perf_counter() - s # time elapsed between starting and ending awaition for async function to finish processing\n",
    "print(f\"Script executed in {elapsed:0.2f} seconds.\")"
   ]
  },
  {
   "attachments": {},
   "cell_type": "markdown",
   "metadata": {},
   "source": [
    "<b>Event loop</b>\n",
    "<br>\n",
    "<br>\n",
    "Asyncio uses an Event Loop to manage and coordinate the execution of asynchronous tasks and events. In Jupyter, an Event Loop is already setup and runs in the main thread. If you try to create a new Event Loop in Jupyter, you will recieve an error (see below)."
   ]
  },
  {
   "cell_type": "code",
   "execution_count": 11,
   "metadata": {},
   "outputs": [
    {
     "name": "stdout",
     "output_type": "stream",
     "text": [
      "<_WindowsSelectorEventLoop running=True closed=False debug=False>\n",
      "{<Task pending name='Task-3' coro=<Kernel.dispatch_queue() running at c:\\Users\\sarah\\anaconda3\\envs\\api-env\\lib\\site-packages\\ipykernel\\kernelbase.py:510> cb=[IOLoop.add_future.<locals>.<lambda>() at c:\\Users\\sarah\\anaconda3\\envs\\api-env\\lib\\site-packages\\tornado\\ioloop.py:687]>}\n",
      "This event loop is already running\n"
     ]
    }
   ],
   "source": [
    "import asyncio\n",
    "loop = asyncio.get_event_loop()\n",
    "print(loop)\n",
    "pending = asyncio.all_tasks()\n",
    "print(pending)\n",
    "try:\n",
    "    asyncio.get_event_loop().run_until_complete(asyncio.gather(*asyncio.all_tasks()))\n",
    "except RuntimeError as r:\n",
    "    print(r)"
   ]
  },
  {
   "attachments": {},
   "cell_type": "markdown",
   "metadata": {},
   "source": [
    "If you want to run an additional Event Loop in Jupyter you can use the [nest-asyncio](https://pypi.org/project/nest-asyncio) package, otherwise, you can simply add your async tasks to the already running Event Loop."
   ]
  },
  {
   "cell_type": "markdown",
   "metadata": {},
   "source": [
    "<b>Multiple page request using asyncio</b>\n",
    "<br>\n",
    "<br>\n",
    "Now we understand how asyncio works, we can go ahead and create our asyncio function for requesting multiple IUCN pages."
   ]
  },
  {
   "cell_type": "code",
   "execution_count": 12,
   "metadata": {},
   "outputs": [],
   "source": [
    "import aiohttp\n",
    "async def get_single_test_page_asyncio(url, session):\n",
    "    async with session.get(url) as response:\n",
    "        return await response.text()\n",
    "\n",
    "async def get_multiple_test_pages_asyncio(maximum_pages):\n",
    "    async with aiohttp.ClientSession() as session:\n",
    "        tasks = [get_single_test_page_asyncio(f\"http://httpbin.org/links/{page}\", session) for page in range(maximum_pages)]\n",
    "        responses = await asyncio.gather(*tasks)\n",
    "        return responses"
   ]
  },
  {
   "cell_type": "markdown",
   "metadata": {},
   "source": [
    "## Compare the 3 methods\n",
    "- Synchronous requests\n",
    "- Async threads\n",
    "- Asyncio coroutines"
   ]
  },
  {
   "cell_type": "code",
   "execution_count": 13,
   "metadata": {},
   "outputs": [],
   "source": [
    "def time_function(function_name, pages):\n",
    "    \"\"\" \n",
    "    Time how long it takes to execute a function\n",
    "    that requests multiple pages.\n",
    "    \"\"\"\n",
    "    times = []\n",
    "    for page in pages: # number of pages to request\n",
    "        execution_time = timeit.timeit(lambda: function_name(page), number=1) \n",
    "        print(f\"Execution time for {page} pages: {execution_time:.6f} seconds\") \n",
    "        times.append((page, execution_time))\n",
    "    return times"
   ]
  },
  {
   "cell_type": "code",
   "execution_count": 14,
   "metadata": {},
   "outputs": [],
   "source": [
    "maximum_pages = [2, 5, 16]"
   ]
  },
  {
   "cell_type": "markdown",
   "metadata": {},
   "source": [
    "Sync method"
   ]
  },
  {
   "cell_type": "code",
   "execution_count": 15,
   "metadata": {},
   "outputs": [
    {
     "name": "stdout",
     "output_type": "stream",
     "text": [
      "Execution time for 2 pages: 0.644963 seconds\n",
      "Execution time for 5 pages: 1.553700 seconds\n",
      "Execution time for 16 pages: 7.464458 seconds\n"
     ]
    }
   ],
   "source": [
    "sync_times = time_function(get_multiple_test_pages_synchronously, maximum_pages)"
   ]
  },
  {
   "cell_type": "markdown",
   "metadata": {},
   "source": [
    "Async method using ThreadPool"
   ]
  },
  {
   "cell_type": "code",
   "execution_count": 16,
   "metadata": {},
   "outputs": [
    {
     "name": "stdout",
     "output_type": "stream",
     "text": [
      "Execution time for 2 pages: 0.320076 seconds\n",
      "Execution time for 5 pages: 0.587373 seconds\n",
      "Execution time for 16 pages: 1.764663 seconds\n"
     ]
    }
   ],
   "source": [
    "thread_times = time_function(get_multiple_test_pages_using_threads, maximum_pages)"
   ]
  },
  {
   "cell_type": "markdown",
   "metadata": {},
   "source": [
    "Async method using asyncio"
   ]
  },
  {
   "cell_type": "code",
   "execution_count": 17,
   "metadata": {},
   "outputs": [
    {
     "name": "stdout",
     "output_type": "stream",
     "text": [
      "Execution time for 2 pages: 0.39 seconds.\n",
      "Execution time for 5 pages: 0.78 seconds.\n",
      "Execution time for 16 pages: 0.92 seconds.\n"
     ]
    }
   ],
   "source": [
    "asyncio_times = []\n",
    "for max_page in maximum_pages:\n",
    "    s = time.perf_counter()\n",
    "    await get_multiple_test_pages_asyncio(max_page)\n",
    "    elapsed = time.perf_counter() - s\n",
    "    print(f\"Execution time for {max_page} pages: {elapsed:0.2f} seconds.\")\n",
    "    asyncio_times.append((max_page, elapsed))"
   ]
  },
  {
   "cell_type": "markdown",
   "metadata": {},
   "source": [
    "Plot results"
   ]
  },
  {
   "cell_type": "code",
   "execution_count": 18,
   "metadata": {},
   "outputs": [
    {
     "data": {
      "image/png": "[encoded data removed]",
      "text/plain": [
       "<Figure size 640x480 with 1 Axes>"
      ]
     },
     "metadata": {},
     "output_type": "display_data"
    }
   ],
   "source": [
    "# Extract x and y values from each list of tuples\n",
    "x1, y1 = zip(*sync_times)\n",
    "x2, y2 = zip(*thread_times)\n",
    "x3, y3 = zip(*asyncio_times)\n",
    "\n",
    "# Plot each line separately\n",
    "plt.plot(x1, y1, label='Sync requests')\n",
    "plt.plot(x2, y2, label='Async threads')\n",
    "plt.plot(x3, y3, label='Async coroutines')\n",
    "\n",
    "# Add labels and legend\n",
    "plt.xlabel('page number')\n",
    "plt.ylabel('execution time (sec)')\n",
    "plt.legend()\n",
    "plt.title('Async vs sync request times for multiple pages')\n",
    "\n",
    "# Show the plot\n",
    "plt.show()"
   ]
  }
 ],
 "metadata": {
  "kernelspec": {
   "display_name": "api-env",
   "language": "python",
   "name": "python3"
  },
  "language_info": {
   "codemirror_mode": {
    "name": "ipython",
    "version": 3
   },
   "file_extension": ".py",
   "mimetype": "text/x-python",
   "name": "python",
   "nbconvert_exporter": "python",
   "pygments_lexer": "ipython3",
   "version": "3.10.6"
  },
  "orig_nbformat": 4,
  "vscode": {
   "interpreter": {
    "hash": "923019c6e1ca6f51402cf574cb88c838ae6a179377b5dd302271172441e3c0c8"
   }
  }
 },
 "nbformat": 4,
 "nbformat_minor": 2
}
